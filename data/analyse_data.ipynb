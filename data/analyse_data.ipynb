{
 "cells": [
  {
   "cell_type": "code",
   "execution_count": 43,
   "metadata": {},
   "outputs": [
    {
     "data": {
      "text/plain": [
       "['Office of the Special Investigator',\n",
       " 'Future Fund Management Agency',\n",
       " 'National Offshore Petroleum Safety And Environmental Management Authority',\n",
       " \"Department of Veterans' Affairs\"]"
      ]
     },
     "execution_count": 43,
     "metadata": {},
     "output_type": "execute_result"
    }
   ],
   "source": [
    "import pandas as pd\n",
    "import numpy as np\n",
    "import matplotlib.pyplot as plt\n",
    "import seaborn as sns\n",
    "\n",
    "# Seaborn styling\n",
    "sns.set(\n",
    "    font=\"ABC Sans Nova\",\n",
    "    font_scale=1.25\n",
    ")\n",
    "sns.set_palette([\"#037cc2\", \"#cc4e00\", \"#2d8289\", \"#002b66\", \"#6450b3\"])\n",
    "\n",
    "# salary data from APSC\n",
    "pay_data = pd.read_excel(\n",
    "    \"./APS Agency Pay Scales - 31 December 2022.xlsx\",\n",
    "    skiprows=2,\n",
    "    skipfooter=4,\n",
    "    index_col=1\n",
    ").iloc[:, 1:]\n",
    "\n",
    "# extract APS job levels\n",
    "levels = set([col.split(\" \")[0] for col in pay_data.columns])\n",
    "\n",
    "# staff headcounts from APSC\n",
    "staff_data = pd.read_excel(\n",
    "    \"./Employment Data Release December 2022 - tables.xlsx\",\n",
    "    sheet_name=10,\n",
    "    header=[2, 3],\n",
    "    index_col=0,\n",
    "    na_values=\".\",\n",
    "    skipfooter=3\n",
    ").iloc[:, 2:-7]\n",
    "staff_data.fillna(0, inplace=True) # replace null values with zeros\n",
    "\n",
    "# reclassify graduates as APS3s (to match pay data)\n",
    "staff_data[(\"APS 3\", \"Men\")] = staff_data[(\"APS 3\", \"Men\")] + staff_data[(\"Graduate\", \"Men\")]\n",
    "staff_data[(\"APS 3\", \"Women\")] = staff_data[(\"APS 3\", \"Women\")] + staff_data[(\"Graduate\", \"Women\")]\n",
    "staff_data = staff_data.iloc[:, 2:]\n",
    "staff_data.index = [  # clean up agency names\n",
    "    \"Attorney-General's Department\"\n",
    "    if name == \"Attorney-General's\"\n",
    "    else \"Department of the Prime Minister & Cabinet\"\n",
    "    if name == \"Prime Minister and Cabinet\"\n",
    "    else \"Treasury\"\n",
    "    if name == \"Treasury\"\n",
    "    else name.replace(\" and \", \" & \").replace(\"- \", \"\")\n",
    "    if \"- \" in name\n",
    "    else \"Department of \" + name.replace(\" and \", \" & \")\n",
    "    for name in staff_data.index\n",
    "]\n",
    "\n",
    "# keys for matching agencies\n",
    "keys = pd.read_csv(\n",
    "    \"./agencyKeys.csv\"\n",
    ")\n",
    "\n",
    "[x for x in staff_data.index if x not in keys.agency.tolist()]"
   ]
  },
  {
   "cell_type": "code",
   "execution_count": null,
   "metadata": {},
   "outputs": [],
   "source": []
  }
 ],
 "metadata": {
  "kernelspec": {
   "display_name": "Python 3",
   "language": "python",
   "name": "python3"
  },
  "language_info": {
   "codemirror_mode": {
    "name": "ipython",
    "version": 3
   },
   "file_extension": ".py",
   "mimetype": "text/x-python",
   "name": "python",
   "nbconvert_exporter": "python",
   "pygments_lexer": "ipython3",
   "version": "3.10.11"
  },
  "orig_nbformat": 4
 },
 "nbformat": 4,
 "nbformat_minor": 2
}
